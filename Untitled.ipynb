{
 "cells": [
  {
   "cell_type": "code",
   "execution_count": null,
   "id": "9d62fdda",
   "metadata": {},
   "outputs": [],
   "source": [
    "!pip install selenium"
   ]
  },
  {
   "cell_type": "code",
   "execution_count": null,
   "id": "c07c751a",
   "metadata": {},
   "outputs": [],
   "source": [
    "!pip install plotly"
   ]
  },
  {
   "cell_type": "code",
   "execution_count": 142,
   "id": "05ce993d",
   "metadata": {},
   "outputs": [
    {
     "name": "stdout",
     "output_type": "stream",
     "text": [
      "5.325218\n",
      "5.176644417\n",
      "282.62\n"
     ]
    }
   ],
   "source": [
    "from selenium import webdriver #Permite criar um \"navegador\"\n",
    "from selenium.webdriver.common.keys import Keys # Permite escrever no navegador\n",
    "from selenium.webdriver.common.by import By # permite selecionar no navegador \n",
    "\n",
    "# para rodar o chrome em 2º plano\n",
    "# from selenium.webdriver.chrome.options import Options\n",
    "# chrome_options = Options()\n",
    "# chrome_options.headless = True \n",
    "# navegador = webdriver.Chrome(options=chrome_options)\n",
    "\n",
    "#1:\n",
    "#abrir o nevegador\n",
    "navegador = webdriver.Chrome()\n",
    "#acessar o navegador \n",
    "navegador.get(\"https://www.google.com/\")\n",
    "#elemento xpath da busca do google e escrendo | cotação dolar\n",
    "navegador.find_element(\"xpath\",\n",
    "        '/html/body/div[1]/div[3]/form/div[1]/div[1]/div[1]/div/div[2]/input').send_keys(\"cotação dolar\")\n",
    "\n",
    "navegador.find_element(\"xpath\",\n",
    "         '/html/body/div[1]/div[3]/form/div[1]/div[1]/div[1]/div/div[2]/input').send_keys(Keys.ENTER)\n",
    "\n",
    "# Pegando a cotação do dolar\n",
    "cotacao_dolar = navegador.find_element(\"xpath\",\n",
    "          '//*[@id=\"knowledge-currency__updatable-data-column\"]/div[1]/div[2]/span[1]').get_attribute(\"data-value\")\n",
    "\n",
    "#mostrando a cotação \n",
    "print(cotacao_dolar)\n",
    "\n",
    "\n",
    "\n",
    "#2: \n",
    "#acessar o navegador \n",
    "navegador.get(\"https://www.google.com/\")\n",
    "#elemento xpath da busca do google e escrendo | cotação dolar\n",
    "navegador.find_element(\"xpath\",\n",
    "        '/html/body/div[1]/div[3]/form/div[1]/div[1]/div[1]/div/div[2]/input').send_keys(\"cotação euro\")\n",
    "\n",
    "navegador.find_element(\"xpath\",\n",
    "         '/html/body/div[1]/div[3]/form/div[1]/div[1]/div[1]/div/div[2]/input').send_keys(Keys.ENTER)\n",
    "\n",
    "# Pegando a cotação do euro\n",
    "cotacao_euro = navegador.find_element(\"xpath\",\n",
    "          '//*[@id=\"knowledge-currency__updatable-data-column\"]/div[1]/div[2]/span[1]').get_attribute(\"data-value\")\n",
    "\n",
    "#mostrando a cotação \n",
    "print(cotacao_euro)\n",
    "\n",
    "\n",
    "#3:\n",
    "#acessar o navegador \n",
    "navegador.get(\"https://www.melhorcambio.com/ouro-hoje\")\n",
    "#elemento xpath da busca do google e escrendo | cotação ouro\n",
    "navegador.find_element(\"xpath\",\n",
    "        '//*[@id=\"comercial\"]').send_keys(\"cotação ouro\")\n",
    "# Pegando a cotação do ouro\n",
    "cotacao_ouro = navegador.find_element(\"xpath\",\n",
    "          '//*[@id=\"comercial\"]').get_attribute(\"value\")\n",
    "\n",
    "cotacao_ouro = cotacao_ouro.replace(',', \".\")\n",
    "\n",
    "#mostrando a cotação \n",
    "print(cotacao_ouro)\n",
    "\n",
    "navegador.quit()\n"
   ]
  },
  {
   "cell_type": "code",
   "execution_count": 143,
   "id": "31cc6d28",
   "metadata": {},
   "outputs": [
    {
     "data": {
      "text/html": [
       "<div>\n",
       "<style scoped>\n",
       "    .dataframe tbody tr th:only-of-type {\n",
       "        vertical-align: middle;\n",
       "    }\n",
       "\n",
       "    .dataframe tbody tr th {\n",
       "        vertical-align: top;\n",
       "    }\n",
       "\n",
       "    .dataframe thead th {\n",
       "        text-align: right;\n",
       "    }\n",
       "</style>\n",
       "<table border=\"1\" class=\"dataframe\">\n",
       "  <thead>\n",
       "    <tr style=\"text-align: right;\">\n",
       "      <th></th>\n",
       "      <th>Cotação</th>\n",
       "      <th>Valor</th>\n",
       "    </tr>\n",
       "  </thead>\n",
       "  <tbody>\n",
       "    <tr>\n",
       "      <th>0</th>\n",
       "      <td>Dolar</td>\n",
       "      <td>5.325218</td>\n",
       "    </tr>\n",
       "    <tr>\n",
       "      <th>1</th>\n",
       "      <td>Euro</td>\n",
       "      <td>5.176644</td>\n",
       "    </tr>\n",
       "    <tr>\n",
       "      <th>2</th>\n",
       "      <td>Ouro</td>\n",
       "      <td>282.620000</td>\n",
       "    </tr>\n",
       "  </tbody>\n",
       "</table>\n",
       "</div>"
      ],
      "text/plain": [
       "  Cotação       Valor\n",
       "0   Dolar    5.325218\n",
       "1    Euro    5.176644\n",
       "2    Ouro  282.620000"
      ]
     },
     "metadata": {},
     "output_type": "display_data"
    }
   ],
   "source": [
    "tabela_cotacao = pd.DataFrame()\n",
    "lista = \"Dolar Euro Ouro\".split()\n",
    "\n",
    "tabela_cotacao['Cotação'] = lista\n",
    "\n",
    "tabela_cotacao['Valor'] = 0\n",
    "\n",
    "tabela_cotacao.iloc[0,1] = float(cotacao_dolar)\n",
    "tabela_cotacao.iloc[1,1] = float(cotacao_euro)\n",
    "tabela_cotacao.iloc[2,1] = float(cotacao_ouro)\n",
    "\n",
    "display(tabela_cotacao)"
   ]
  },
  {
   "cell_type": "code",
   "execution_count": null,
   "id": "1f7fb008",
   "metadata": {},
   "outputs": [],
   "source": [
    "tabela_cotacao.to_csv('tabela_cotacao.csv')"
   ]
  },
  {
   "cell_type": "code",
   "execution_count": null,
   "id": "d1c34f52",
   "metadata": {},
   "outputs": [],
   "source": []
  }
 ],
 "metadata": {
  "kernelspec": {
   "display_name": "Python 3 (ipykernel)",
   "language": "python",
   "name": "python3"
  },
  "language_info": {
   "codemirror_mode": {
    "name": "ipython",
    "version": 3
   },
   "file_extension": ".py",
   "mimetype": "text/x-python",
   "name": "python",
   "nbconvert_exporter": "python",
   "pygments_lexer": "ipython3",
   "version": "3.9.12"
  }
 },
 "nbformat": 4,
 "nbformat_minor": 5
}
